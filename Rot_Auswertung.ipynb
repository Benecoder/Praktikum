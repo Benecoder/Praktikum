{
 "cells": [
  {
   "cell_type": "code",
   "execution_count": 270,
   "metadata": {},
   "outputs": [],
   "source": [
    "import numpy as np\n",
    "import matplotlib as mlp\n",
    "import matplotlib.pyplot as plt"
   ]
  },
  {
   "cell_type": "markdown",
   "metadata": {},
   "source": [
    "#### Analoge Trägheitsradiusmessung"
   ]
  },
  {
   "cell_type": "code",
   "execution_count": 289,
   "metadata": {},
   "outputs": [],
   "source": [
    "#Gemessene Daten\n",
    "\n",
    "#Gemessene Höhe des Pendels in mm\n",
    "Hn = [65.5,59.8,57.8,54.,48.5,45.7,42.5,40.0,38.1,36.0,36.2,31.9,30.5,29.2,27.8,26.4,26.0]\n",
    "Hn = np.array(Hn)*10.0\n",
    "\n",
    "#Dauer einer Periode in s\n",
    "Tn = [10.06,9.33,9.3,8.90,8.29,7.73,7.60,7.22,7.23,6.54,6.46,6.08,6.13,5.83,4.93,5.6,4.2]\n",
    "Tn = np.array(Tn)\n",
    "TnSquared = Tn**2"
   ]
  },
  {
   "cell_type": "code",
   "execution_count": 290,
   "metadata": {},
   "outputs": [
    {
     "name": "stdout",
     "output_type": "stream",
     "text": [
      "a: 5.14\n",
      "b: 134.0\n"
     ]
    }
   ],
   "source": [
    "import scipy as sp\n",
    "#Linear Regression\n",
    "(a,b) = sp.polyfit(TnSquared,Hn,1)   #Regression Fit\n",
    "\n",
    "print(\"a: \"+str(round(a,2)))\n",
    "print(\"b: \"+str(round(b,0)))\n",
    "\n",
    "\n",
    "Ressvalues = sp.polyval([a,b],TnSquared)\n"
   ]
  },
  {
   "cell_type": "code",
   "execution_count": 291,
   "metadata": {},
   "outputs": [
    {
     "data": {
      "text/plain": [
       "[<matplotlib.lines.Line2D at 0x112b290b8>]"
      ]
     },
     "execution_count": 291,
     "metadata": {},
     "output_type": "execute_result"
    },
    {
     "data": {
      "image/png": "[encoded data removed]",
      "text/plain": [
       "<matplotlib.figure.Figure at 0x112773ba8>"
      ]
     },
     "metadata": {},
     "output_type": "display_data"
    }
   ],
   "source": [
    "fig = plt.figure(figsize = (13,5))\n",
    "plt.title(\"Plot der händischen Bewegungsanalyse\")\n",
    "plt.ylabel(\"Höchster Punkt in mm\")\n",
    "plt.xlabel(\"Periodendauer im Quadrat\")\n",
    "plt.grid(True)\n",
    "\n",
    "plt.plot(TnSquared,Ressvalues)\n",
    "plt.plot(TnSquared,Hn,\".\")"
   ]
  },
  {
   "cell_type": "markdown",
   "metadata": {},
   "source": [
    "Fehler der Steigung ist gegeben als die Standartabweichung des Abstands der Linearisierten Werte von den gemessenen Werten."
   ]
  },
  {
   "cell_type": "code",
   "execution_count": 273,
   "metadata": {},
   "outputs": [
    {
     "name": "stdout",
     "output_type": "stream",
     "text": [
      "Fehler der Steigung beträgt: 10.592158917825778\n"
     ]
    }
   ],
   "source": [
    "da = np.std(np.abs(Ressvalues-Hn))\n",
    "print(\"Fehler der Steigung beträgt: \"+str(da))"
   ]
  },
  {
   "cell_type": "code",
   "execution_count": 274,
   "metadata": {},
   "outputs": [
    {
     "name": "stdout",
     "output_type": "stream",
     "text": [
      "238.47191429072146\n"
     ]
    }
   ],
   "source": [
    "#abstrakte Größe y\n",
    "g = 9.81*1000#g in mm\n",
    "y = g/(8*a)\n",
    "print(y)\n"
   ]
  },
  {
   "cell_type": "markdown",
   "metadata": {},
   "source": [
    "Maße des Maxwell Pendels analog zur Skizze im Protokoll. Alle Angaben in mm."
   ]
  },
  {
   "cell_type": "code",
   "execution_count": 275,
   "metadata": {},
   "outputs": [],
   "source": [
    "L = [321,126,13,4]\n",
    "R = [4,6,10,68,91]"
   ]
  },
  {
   "cell_type": "markdown",
   "metadata": {},
   "source": [
    "Experimenteller Trägheitsradius. Folgt der im skript hergeleiteten Formel: \n",
    "\n",
    "\\begin{align}\n",
    "R_J = r\\sqrt{\\frac{gT_n^2}{8h_n}-1} = r\\sqrt{y-1}\n",
    "\\end{align}\n",
    "\n",
    "Radius r der Spule entspricht Durchschnitt von auf und abgewickelt."
   ]
  },
  {
   "cell_type": "code",
   "execution_count": 276,
   "metadata": {},
   "outputs": [],
   "source": [
    "r = (R[0]+R[1])/2.0 \n",
    "Rj_exp = r*np.sqrt(y-1.0)"
   ]
  },
  {
   "cell_type": "markdown",
   "metadata": {},
   "source": [
    "Gaußfehler des experiementellen Trägheitsradius"
   ]
  },
  {
   "cell_type": "code",
   "execution_count": 277,
   "metadata": {},
   "outputs": [
    {
     "name": "stdout",
     "output_type": "stream",
     "text": [
      "dR/dr: 15.41012375974708\n",
      "dR/da: -7.523663055268246\n",
      "Der experiemntell Trägheitsradius beträgt: 77.0 +/- 10.0 mm.\n"
     ]
    }
   ],
   "source": [
    "dRdr = np.sqrt(y-1.0)\n",
    "dRda = (-r*g)/(16*a**2*np.sqrt(y-1))\n",
    "\n",
    "dr = 0.3\n",
    "\n",
    "print(\"dR/dr: \"+str(dRdr))\n",
    "print(\"dR/da: \"+str(dRda))\n",
    "\n",
    "Error = np.sqrt(dr*abs(dRdr)+da*abs(dRda))\n",
    "print(\"Der experiemntell Trägheitsradius beträgt: \"+str(round(Rj_exp,0))+\" +/- \"+str(round(da,-1))+\" mm.\")"
   ]
  },
  {
   "cell_type": "markdown",
   "metadata": {},
   "source": [
    "#### Theoretischer Trägheitsradius"
   ]
  },
  {
   "cell_type": "code",
   "execution_count": 278,
   "metadata": {},
   "outputs": [],
   "source": [
    "def Inertia(L,R):\n",
    "    Zähler = L[0]*(R[0]**4)+L[1]*(R[1]**4-R[0]**4)+L[2]*(R[2]**4-R[1]**4)\n",
    "    Zähler += L[2]*(R[4]**4-R[3]**4)+L[3]*(R[3]**4-R[2]**4)\n",
    "    Nenner = L[0]*(R[0]**2)+L[1]*(R[1]**2-R[0]**2)+L[2]*(R[2]**2-R[1]**2)\n",
    "    Nenner += L[2]*(R[4]**2-R[3]**2)+L[3]*(R[3]**2-R[2]**2)\n",
    "    return np.sqrt(Zähler/(2*Nenner))\n",
    "Rj_th = Inertia(L,R)"
   ]
  },
  {
   "cell_type": "markdown",
   "metadata": {},
   "source": [
    "Fehlerberechung mittels numerischer Linearisierung. Da min/max Methode nicht offensichtlich und explizite differentiation extrem aufwendig wird nun genutzt, dass für jede Variable v von der R abhängig ist gilt:\n",
    "\n",
    "\\begin{align}\n",
    "\\frac{dRj}{dv} ≈ \\frac{R(v+0.001)-R(v)}{0.001}\n",
    "\\end{align}\n",
    "\n",
    "Diese angenäherte Steigung wird für jede gemessene Länge und Radius berechnet. Der Fehler wird dann mittels nach Gauß folgendermaßen angenähert.\n",
    "\n",
    "\\begin{align}\n",
    "\\sqrt{\\sum_{i} \\frac{dR}{dv_i}} ≈ \\sqrt{\\sum_{i}\\frac{R(v_i+0.001)-R(v_i)}{0.001}}\n",
    "\\end{align}"
   ]
  },
  {
   "cell_type": "code",
   "execution_count": 279,
   "metadata": {},
   "outputs": [
    {
     "name": "stdout",
     "output_type": "stream",
     "text": [
      "dL/dL0: -0.007399993094736601\n",
      "dL/dL1: -0.009214634900445162\n",
      "dL/dL2: 0.5939850727685325\n",
      "dL/dL3: -1.0463902483195398\n"
     ]
    },
    {
     "data": {
      "text/plain": [
       "[None, None, None, None]"
      ]
     },
     "execution_count": 279,
     "metadata": {},
     "output_type": "execute_result"
    }
   ],
   "source": [
    "dLdLi = [0,0,0,0]  #Liste aller partiellem Ableitungen von L\n",
    "\n",
    "for i in range(len(L)):\n",
    "    \n",
    "    L_ = L[:]\n",
    "    L_[i] += 0.001\n",
    "    Rj_th_ = Inertia(L_,R)\n",
    "    dLdLi[i] = (Rj_th_-Rj_th)/0.001\n",
    "    \n",
    "dLdLi = np.array(dLdLi)\n",
    "[print(\"dL/dL\"+str(i)+\": \"+str(dLdLi[i])) for i in range(len(L))]"
   ]
  },
  {
   "cell_type": "code",
   "execution_count": 280,
   "metadata": {},
   "outputs": [
    {
     "name": "stdout",
     "output_type": "stream",
     "text": [
      "dL/dR0: -0.7203518028831013\n",
      "dL/dR1: -0.6234632018191633\n",
      "dL/dR2: -0.08162730927097073\n",
      "dL/dR3: 0.011198638276255224\n",
      "dL/dR4: 0.8281026248937451\n"
     ]
    },
    {
     "data": {
      "text/plain": [
       "[None, None, None, None, None]"
      ]
     },
     "execution_count": 280,
     "metadata": {},
     "output_type": "execute_result"
    }
   ],
   "source": [
    "dRdRi = [0,0,0,0,0]  #Liste aller partiellem Ableitungen von R\n",
    "\n",
    "for i in range(len(R)):\n",
    "    R_ = R[:]\n",
    "    R_[i] += 0.001\n",
    "    Rj_th_ = Inertia(L,R_)\n",
    "    dRdRi[i] = (Rj_th_-Rj_th)/0.001\n",
    "    \n",
    "dRdRi = np.array(dRdRi)\n",
    "[print(\"dL/dR\"+str(i)+\": \"+str(dRdRi[i])) for i in range(len(R))]"
   ]
  },
  {
   "cell_type": "code",
   "execution_count": 281,
   "metadata": {},
   "outputs": [
    {
     "name": "stdout",
     "output_type": "stream",
     "text": [
      "Das theoretische Drehmoment beträgt:69.0 +/- 2.0\n"
     ]
    }
   ],
   "source": [
    "dL = np.array([4.0,2.0,0.05,1.0])    #Messfehler L\n",
    "dR = np.array([0.3,0.3,0.3,0.5,1])   #Messfehler R\n",
    "\n",
    "ErL = dL*dLdLi #Fehler von L ist Ableitung mal Messfeheler\n",
    "ErR = dR*dRdRi #Fehler von R ist Ableitung mal Messfeheler \n",
    "\n",
    "Gesamtfehler = np.concatenate([ErL.T,ErR.T]) #Gesamtfehler ist Kombination der Einzelfehler\n",
    "\n",
    "Gausserror = np.linalg.norm(Gesamtfehler)\n",
    "print(\"Das theoretische Drehmoment beträgt:\"+str(round(Rj_th,0))+\" +/- \"+str(np.ceil(Gausserror)))"
   ]
  },
  {
   "cell_type": "markdown",
   "metadata": {},
   "source": [
    "#### Computergestützte Höhenmessung"
   ]
  },
  {
   "cell_type": "code",
   "execution_count": 285,
   "metadata": {},
   "outputs": [],
   "source": [
    "def eval_Rj(r,a):\n",
    "    y = g/(8*a)\n",
    "    return r*np.sqrt(y_-1.0)\n",
    "\n",
    "\n",
    "a_ = 0.006*1000  #Steigung von gnuplot in m/s^2 wird nun in mm/s^2 angegeben\n",
    "y_ = g/(8*a_)\n",
    "\n",
    "Rj_comp = eval_Rj(r,a_)"
   ]
  },
  {
   "cell_type": "markdown",
   "metadata": {},
   "source": [
    "Fehlerberechnung mittels min/max Methode"
   ]
  },
  {
   "cell_type": "code",
   "execution_count": 283,
   "metadata": {},
   "outputs": [
    {
     "name": "stdout",
     "output_type": "stream",
     "text": [
      "Rj_comp_min-Rj_comp: -4.278288\n",
      "Rj_comp_max-Rj_comp: 4.278288\n"
     ]
    }
   ],
   "source": [
    "da_ = 6*10**(-5)\n",
    "\n",
    "Rj_comp_min = eval_Rj(r-dr,a-da_)\n",
    "Rj_comp_max = eval_Rj(r+dr,a+da_)\n",
    "\n",
    "print(\"Rj_comp_min-Rj_comp: \"+str(round(Rj_comp_min-Rj_comp,6)))\n",
    "print(\"Rj_comp_max-Rj_comp: \"+str(round(Rj_comp_max-Rj_comp,6)))\n"
   ]
  },
  {
   "cell_type": "markdown",
   "metadata": {},
   "source": [
    "Da Abweichungen in beide Richtungen gleich groß sind gilt:"
   ]
  },
  {
   "cell_type": "code",
   "execution_count": 284,
   "metadata": {},
   "outputs": [
    {
     "name": "stdout",
     "output_type": "stream",
     "text": [
      "Digital gemessener Trägheitsradius beträgt: 71.0 +/- 5.0\n"
     ]
    }
   ],
   "source": [
    "dRj_comp = (Rj_comp_max-Rj_comp_min)/2\n",
    "print(\"Digital gemessener Trägheitsradius beträgt: \"+str(round(Rj_comp,0))+\" +/- \"+str(np.ceil(dRj_comp)))"
   ]
  },
  {
   "cell_type": "code",
   "execution_count": 292,
   "metadata": {},
   "outputs": [
    {
     "name": "stdout",
     "output_type": "stream",
     "text": [
      "74.16166666666666\n"
     ]
    }
   ],
   "source": [
    "t1 = 60+14.105\n",
    "t2 = 60+13.78\n",
    "t3 = 60+14.6\n",
    "\n",
    "print((t1+t2+t3)/3.0)"
   ]
  },
  {
   "cell_type": "code",
   "execution_count": null,
   "metadata": {},
   "outputs": [],
   "source": []
  }
 ],
 "metadata": {
  "kernelspec": {
   "display_name": "Python 3",
   "language": "python",
   "name": "python3"
  },
  "language_info": {
   "codemirror_mode": {
    "name": "ipython",
    "version": 3
   },
   "file_extension": ".py",
   "mimetype": "text/x-python",
   "name": "python",
   "nbconvert_exporter": "python",
   "pygments_lexer": "ipython3",
   "version": "3.6.4"
  }
 },
 "nbformat": 4,
 "nbformat_minor": 2
}
